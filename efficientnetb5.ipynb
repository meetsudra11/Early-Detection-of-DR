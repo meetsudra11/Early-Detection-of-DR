{
 "cells": [
  {
   "cell_type": "code",
   "execution_count": 1,
   "metadata": {},
   "outputs": [],
   "source": [
    "import os  # helps you to interact with operating system, \n",
    "# managing files and directories \n",
    "# finding current directories, \n",
    "# working with enviornment variables \n",
    "import pandas as pd  # for dataframe \n",
    "import numpy as np  # handaling arrays\n",
    "import cv2  # used for image processing and computer vision\n",
    "# read and write files, Object detections(faces) and more \n",
    "import matplotlib.pyplot as plt \n",
    "from tqdm import tqdm # shows the level of progress\n",
    "import random \n",
    "import concurrent.futures # for parallel execution of tasks \n",
    "import seaborn as sns\n",
    "import pickle\n",
    "from sklearn.model_selection import train_test_split\n",
    "\n",
    "from sklearn.decomposition import PCA\n",
    "from joblib import dump, load\n",
    "from sklearn.svm import SVC\n",
    "from sklearn.metrics import accuracy_score, classification_report"
   ]
  },
  {
   "cell_type": "markdown",
   "metadata": {},
   "source": [
    "# Working on images that were recieved after preprocessing them "
   ]
  },
  {
   "cell_type": "code",
   "execution_count": 2,
   "metadata": {},
   "outputs": [],
   "source": [
    "base_dir = \"/Users/meetsudra/Downloads/DiabeticRetino/archive/dr_unified_v2/dr_unified_v2\"\n",
    "\n",
    "train_csv = os.path.join(base_dir, \"ptrain.csv\")\n",
    "val_csv = os.path.join(base_dir, \"pval.csv\")\n",
    "test_csv = os.path.join(base_dir, \"ptest.csv\")\n",
    "\n",
    "train_df = pd.read_csv(train_csv)\n",
    "val_df = pd.read_csv(val_csv)\n",
    "test_df = pd.read_csv(test_csv)"
   ]
  },
  {
   "cell_type": "code",
   "execution_count": 8,
   "metadata": {},
   "outputs": [
    {
     "data": {
      "text/plain": [
       "(9242, 2)"
      ]
     },
     "execution_count": 8,
     "metadata": {},
     "output_type": "execute_result"
    }
   ],
   "source": [
    "test_df.head()\n",
    "test_df.shape"
   ]
  },
  {
   "cell_type": "code",
   "execution_count": 10,
   "metadata": {},
   "outputs": [
    {
     "data": {
      "text/plain": [
       "(73932, 2)"
      ]
     },
     "execution_count": 10,
     "metadata": {},
     "output_type": "execute_result"
    }
   ],
   "source": [
    "train_df.head()\n",
    "train_df.shape"
   ]
  },
  {
   "cell_type": "code",
   "execution_count": 11,
   "metadata": {},
   "outputs": [
    {
     "data": {
      "text/html": [
       "<div>\n",
       "<style scoped>\n",
       "    .dataframe tbody tr th:only-of-type {\n",
       "        vertical-align: middle;\n",
       "    }\n",
       "\n",
       "    .dataframe tbody tr th {\n",
       "        vertical-align: top;\n",
       "    }\n",
       "\n",
       "    .dataframe thead th {\n",
       "        text-align: right;\n",
       "    }\n",
       "</style>\n",
       "<table border=\"1\" class=\"dataframe\">\n",
       "  <thead>\n",
       "    <tr style=\"text-align: right;\">\n",
       "      <th></th>\n",
       "      <th>image_path</th>\n",
       "      <th>label</th>\n",
       "    </tr>\n",
       "  </thead>\n",
       "  <tbody>\n",
       "    <tr>\n",
       "      <th>0</th>\n",
       "      <td>/Users/meetsudra/Downloads/DiabeticRetino/arch...</td>\n",
       "      <td>0</td>\n",
       "    </tr>\n",
       "    <tr>\n",
       "      <th>1</th>\n",
       "      <td>/Users/meetsudra/Downloads/DiabeticRetino/arch...</td>\n",
       "      <td>0</td>\n",
       "    </tr>\n",
       "    <tr>\n",
       "      <th>2</th>\n",
       "      <td>/Users/meetsudra/Downloads/DiabeticRetino/arch...</td>\n",
       "      <td>0</td>\n",
       "    </tr>\n",
       "    <tr>\n",
       "      <th>3</th>\n",
       "      <td>/Users/meetsudra/Downloads/DiabeticRetino/arch...</td>\n",
       "      <td>1</td>\n",
       "    </tr>\n",
       "    <tr>\n",
       "      <th>4</th>\n",
       "      <td>/Users/meetsudra/Downloads/DiabeticRetino/arch...</td>\n",
       "      <td>0</td>\n",
       "    </tr>\n",
       "  </tbody>\n",
       "</table>\n",
       "</div>"
      ],
      "text/plain": [
       "                                          image_path  label\n",
       "0  /Users/meetsudra/Downloads/DiabeticRetino/arch...      0\n",
       "1  /Users/meetsudra/Downloads/DiabeticRetino/arch...      0\n",
       "2  /Users/meetsudra/Downloads/DiabeticRetino/arch...      0\n",
       "3  /Users/meetsudra/Downloads/DiabeticRetino/arch...      1\n",
       "4  /Users/meetsudra/Downloads/DiabeticRetino/arch...      0"
      ]
     },
     "execution_count": 11,
     "metadata": {},
     "output_type": "execute_result"
    }
   ],
   "source": [
    "val_df.head()"
   ]
  },
  {
   "cell_type": "code",
   "execution_count": 12,
   "metadata": {},
   "outputs": [],
   "source": [
    "import tensorflow as tf\n",
    "from tensorflow.keras.applications import EfficientNetB5\n",
    "from tensorflow.keras.preprocessing import image\n",
    "from tensorflow.keras.applications.efficientnet import preprocess_input\n",
    "from tqdm import tqdm\n",
    "\n",
    "# Load EfficientNetB5 (without top layer)\n",
    "base_model = EfficientNetB5(weights=\"imagenet\", include_top=False, pooling=\"avg\")"
   ]
  },
  {
   "cell_type": "code",
   "execution_count": 16,
   "metadata": {},
   "outputs": [],
   "source": [
    "def extract_features(df):\n",
    "    features = []\n",
    "    labels = []\n",
    "    \n",
    "    for img_path, label in tqdm(zip(df[\"image_path\"], df[\"label\"]), total=len(df), desc=\"Extracting Features\"):\n",
    "        try:\n",
    "            img = image.load_img(img_path, target_size=(456, 456))\n",
    "            img_array = image.img_to_array(img)\n",
    "            img_array = np.expand_dims(img_array, axis=0)\n",
    "            img_array = preprocess_input(img_array)\n",
    "\n",
    "            feature = base_model.predict(img_array, verbose=0)\n",
    "            features.append(feature.flatten())\n",
    "            labels.append(label)\n",
    "        \n",
    "        except Exception as e:\n",
    "            print(f\"Error processing {img_path}: {e}\")\n",
    "\n",
    "    return np.array(features), np.array(labels)"
   ]
  },
  {
   "cell_type": "code",
   "execution_count": 17,
   "metadata": {},
   "outputs": [
    {
     "name": "stderr",
     "output_type": "stream",
     "text": [
      "Extracting Features: 100%|██████████| 73932/73932 [7:56:56<00:00,  2.58it/s]   \n",
      "Extracting Features: 100%|██████████| 9241/9241 [1:19:18<00:00,  1.94it/s]\n",
      "Extracting Features: 100%|██████████| 9242/9242 [56:40<00:00,  2.72it/s]\n"
     ]
    }
   ],
   "source": [
    "X_train, y_train = extract_features(train_df)\n",
    "X_val, y_val = extract_features(val_df)\n",
    "X_test, y_test = extract_features(test_df)"
   ]
  },
  {
   "cell_type": "code",
   "execution_count": 18,
   "metadata": {},
   "outputs": [],
   "source": [
    "# Save extracted features\n",
    "np.save(\"X_train.npy\", X_train)\n",
    "np.save(\"y_train.npy\", y_train)\n",
    "np.save(\"X_val.npy\", X_val)\n",
    "np.save(\"y_val.npy\", y_val)\n",
    "np.save(\"X_test.npy\", X_test)\n",
    "np.save(\"y_test.npy\", y_test)"
   ]
  },
  {
   "cell_type": "code",
   "execution_count": 19,
   "metadata": {},
   "outputs": [
    {
     "name": "stdout",
     "output_type": "stream",
     "text": [
      "X_train shape: (73932, 2048), y_train shape: (73932,)\n",
      "X_val shape: (9241, 2048), y_val shape: (9241,)\n",
      "X_test shape: (9242, 2048), y_test shape: (9242,)\n",
      "\n",
      "First 5 feature vectors from X_train:\n",
      "[[ 0.35464016 -0.11336438 -0.00797085 ... -0.18172437 -0.16587104\n",
      "  -0.13923632]\n",
      " [ 0.4410764  -0.09153248 -0.08678316 ... -0.18042731 -0.01045698\n",
      "  -0.06213193]\n",
      " [ 0.2633043  -0.12626693 -0.05649288 ... -0.21565202 -0.16273029\n",
      "  -0.16317786]\n",
      " [ 0.75709766 -0.05302758 -0.13664187 ... -0.07646815 -0.13231465\n",
      "  -0.1226446 ]\n",
      " [ 0.33083418 -0.21344388  0.09940313 ... -0.1499331  -0.02238587\n",
      "  -0.10861953]]\n",
      "\n",
      "First 5 labels from y_train:\n",
      "[1 2 0 0 0]\n",
      "\n",
      "Class distribution in y_train:\n",
      "Class 0: 55119 samples\n",
      "Class 1: 3701 samples\n",
      "Class 2: 12105 samples\n",
      "Class 3: 1005 samples\n",
      "Class 4: 2002 samples\n"
     ]
    }
   ],
   "source": [
    "# Load extracted feature arrays and labels\n",
    "X_train = np.load(\"X_train.npy\")\n",
    "y_train = np.load(\"y_train.npy\")\n",
    "X_val = np.load(\"X_val.npy\")\n",
    "y_val = np.load(\"y_val.npy\")\n",
    "X_test = np.load(\"X_test.npy\")\n",
    "y_test = np.load(\"y_test.npy\")\n",
    "\n",
    "# Print basic information\n",
    "print(f\"X_train shape: {X_train.shape}, y_train shape: {y_train.shape}\")\n",
    "print(f\"X_val shape: {X_val.shape}, y_val shape: {y_val.shape}\")\n",
    "print(f\"X_test shape: {X_test.shape}, y_test shape: {y_test.shape}\")\n",
    "\n",
    "# View first 5 feature vectors and their corresponding labels\n",
    "print(\"\\nFirst 5 feature vectors from X_train:\")\n",
    "print(X_train[:5])  # Displays first 5 feature vectors\n",
    "\n",
    "print(\"\\nFirst 5 labels from y_train:\")\n",
    "print(y_train[:5])  # Displays first 5 labels\n",
    "\n",
    "# Check unique class labels\n",
    "unique_labels, counts = np.unique(y_train, return_counts=True)\n",
    "print(\"\\nClass distribution in y_train:\")\n",
    "for label, count in zip(unique_labels, counts):\n",
    "    print(f\"Class {label}: {count} samples\")\n"
   ]
  },
  {
   "cell_type": "code",
   "execution_count": 22,
   "metadata": {},
   "outputs": [
    {
     "name": "stdout",
     "output_type": "stream",
     "text": [
      "X_train shape after PCA: (73932, 234)\n",
      "X_val shape after PCA: (9241, 234)\n",
      "X_test shape after PCA: (9242, 234)\n"
     ]
    }
   ],
   "source": [
    "# Set desired number of components (retain 95% variance)\n",
    "pca = PCA(n_components=0.95, svd_solver='full')  \n",
    "\n",
    "# Fit PCA on training data and transform all datasets\n",
    "X_train_pca = pca.fit_transform(X_train)\n",
    "X_val_pca = pca.transform(X_val)\n",
    "X_test_pca = pca.transform(X_test)\n",
    "\n",
    "# Print the new shape of datasets\n",
    "print(f\"X_train shape after PCA: {X_train_pca.shape}\")\n",
    "print(f\"X_val shape after PCA: {X_val_pca.shape}\")\n",
    "print(f\"X_test shape after PCA: {X_test_pca.shape}\")\n",
    "\n",
    "# Save the reduced features\n",
    "np.save(\"X_train_pca.npy\", X_train_pca)\n",
    "np.save(\"X_val_pca.npy\", X_val_pca)\n",
    "np.save(\"X_test_pca.npy\", X_test_pca)"
   ]
  },
  {
   "cell_type": "code",
   "execution_count": 23,
   "metadata": {},
   "outputs": [
    {
     "name": "stdout",
     "output_type": "stream",
     "text": [
      "Training SVM model...\n"
     ]
    },
    {
     "name": "stderr",
     "output_type": "stream",
     "text": [
      "Training Progress: 100%|██████████| 1/1 [2:48:36<00:00, 10116.60s/it]"
     ]
    },
    {
     "name": "stdout",
     "output_type": "stream",
     "text": [
      "SVM model saved successfully.\n"
     ]
    },
    {
     "name": "stderr",
     "output_type": "stream",
     "text": [
      "\n"
     ]
    }
   ],
   "source": [
    "from sklearn.svm import SVC\n",
    "# Load PCA-transformed features\n",
    "X_train_pca = np.load(\"X_train_pca.npy\")\n",
    "X_val_pca = np.load(\"X_val_pca.npy\")\n",
    "X_test_pca = np.load(\"X_test_pca.npy\")\n",
    "\n",
    "# Initialize SVM classifier with RBF kernel\n",
    "svm_classifier = SVC(kernel=\"rbf\", C=1.0, gamma=\"scale\", probability=True, random_state=42)\n",
    "\n",
    "# Train the SVM classifier with tqdm progress bar\n",
    "print(\"Training SVM model...\")\n",
    "for _ in tqdm(range(1), desc=\"Training Progress\"):\n",
    "    svm_classifier.fit(X_train_pca, y_train)\n",
    "\n",
    "# Save the trained model\n",
    "dump(svm_classifier, \"svm_model.joblib\")\n",
    "print(\"SVM model saved successfully.\")"
   ]
  },
  {
   "cell_type": "code",
   "execution_count": 24,
   "metadata": {},
   "outputs": [
    {
     "name": "stdout",
     "output_type": "stream",
     "text": [
      "Validation Accuracy: 0.7977\n"
     ]
    }
   ],
   "source": [
    "# Evaluate on validation set\n",
    "y_val_pred = svm_classifier.predict(X_val_pca)\n",
    "val_accuracy = accuracy_score(y_val, y_val_pred)\n",
    "print(f\"Validation Accuracy: {val_accuracy:.4f}\")"
   ]
  },
  {
   "cell_type": "code",
   "execution_count": 25,
   "metadata": {},
   "outputs": [
    {
     "name": "stdout",
     "output_type": "stream",
     "text": [
      "Test Accuracy: 0.7983\n"
     ]
    }
   ],
   "source": [
    "# Evaluate on test set\n",
    "y_test_pred = svm_classifier.predict(X_test_pca)\n",
    "test_accuracy = accuracy_score(y_test, y_test_pred)\n",
    "print(f\"Test Accuracy: {test_accuracy:.4f}\")"
   ]
  },
  {
   "cell_type": "code",
   "execution_count": 26,
   "metadata": {},
   "outputs": [
    {
     "name": "stdout",
     "output_type": "stream",
     "text": [
      "\n",
      "Classification Report on Test Set:\n",
      "              precision    recall  f1-score   support\n",
      "\n",
      "           0       0.81      0.99      0.89      6890\n",
      "           1       0.58      0.06      0.11       463\n",
      "           2       0.64      0.29      0.40      1513\n",
      "           3       0.43      0.02      0.05       126\n",
      "           4       0.73      0.24      0.36       250\n",
      "\n",
      "    accuracy                           0.80      9242\n",
      "   macro avg       0.64      0.32      0.36      9242\n",
      "weighted avg       0.77      0.80      0.75      9242\n",
      "\n"
     ]
    }
   ],
   "source": [
    "# Classification report\n",
    "print(\"\\nClassification Report on Test Set:\")\n",
    "print(classification_report(y_test, y_test_pred))"
   ]
  },
  {
   "cell_type": "code",
   "execution_count": null,
   "metadata": {},
   "outputs": [],
   "source": []
  }
 ],
 "metadata": {
  "kernelspec": {
   "display_name": "Python 3",
   "language": "python",
   "name": "python3"
  },
  "language_info": {
   "codemirror_mode": {
    "name": "ipython",
    "version": 3
   },
   "file_extension": ".py",
   "mimetype": "text/x-python",
   "name": "python",
   "nbconvert_exporter": "python",
   "pygments_lexer": "ipython3",
   "version": "3.12.3"
  }
 },
 "nbformat": 4,
 "nbformat_minor": 2
}
